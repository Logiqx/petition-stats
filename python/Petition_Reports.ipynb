{
 "cells": [
  {
   "cell_type": "markdown",
   "metadata": {},
   "source": [
    "# Petition Results - Automated Download and Reporting\n",
    "\n",
    "Created by Michael George (AKA Logiqx)"
   ]
  },
  {
   "cell_type": "markdown",
   "metadata": {},
   "source": [
    "## Import Libraries"
   ]
  },
  {
   "cell_type": "code",
   "execution_count": 2,
   "metadata": {},
   "outputs": [],
   "source": [
    "import urllib.request\n",
    "import json\n",
    "import datetime, time"
   ]
  },
  {
   "cell_type": "markdown",
   "metadata": {},
   "source": [
    "## Initialisation\n",
    "\n",
    "Basic approach to determine the project directory"
   ]
  },
  {
   "cell_type": "code",
   "execution_count": 3,
   "metadata": {},
   "outputs": [],
   "source": [
    "import os, sys\n",
    "\n",
    "projdir = os.path.realpath(os.path.join(sys.path[0], '..'))"
   ]
  },
  {
   "cell_type": "markdown",
   "metadata": {},
   "source": [
    "## Process History"
   ]
  },
  {
   "cell_type": "code",
   "execution_count": 4,
   "metadata": {},
   "outputs": [],
   "source": [
    "def processHistory(attributes, f):\n",
    "    '''Process history for a petition'''\n",
    "\n",
    "    def getDateTime(dt):\n",
    "        dtSplit = dt.split('T')\n",
    "        dateStr = dtSplit[0]\n",
    "        timeStr = dtSplit[1].split('.')[0]\n",
    "        return '%s | %s' % (dateStr, timeStr)\n",
    "\n",
    "    f.write('### History\\n\\n')\n",
    "    f.write('| Event | Date | Time |\\n')\n",
    "    f.write('| - | - | - |\\n')\n",
    "    f.write('| Updated | %s |\\n' % getDateTime(attributes['updated_at']))\n",
    "\n",
    "    if (attributes['government_response_at']):\n",
    "        f.write('| Government Response | %s |\\n' % getDateTime(attributes['government_response_at']))\n",
    "    if (attributes['debate_threshold_reached_at']):\n",
    "        f.write('| Debate Threshold Reached | %s |\\n' % getDateTime(attributes['debate_threshold_reached_at']))\n",
    "    if (attributes['response_threshold_reached_at']):\n",
    "        f.write('| Response Threshold Reached | %s |\\n' % getDateTime(attributes['response_threshold_reached_at']))\n",
    "\n",
    "    f.write('| Opened | %s |\\n' % getDateTime(attributes['opened_at']))\n",
    "\n",
    "    if (attributes['moderation_threshold_reached_at']):\n",
    "        f.write('| Moderation Threshold Reached | %s |\\n' % getDateTime(attributes['moderation_threshold_reached_at']))\n",
    "\n",
    "    f.write('| Created | %s |\\n' % getDateTime(attributes['created_at']))"
   ]
  },
  {
   "cell_type": "markdown",
   "metadata": {},
   "source": [
    "## Process Countries"
   ]
  },
  {
   "cell_type": "code",
   "execution_count": 5,
   "metadata": {},
   "outputs": [],
   "source": [
    "def processCountries(attributes, f):\n",
    "    '''Process all of the countries for a petition'''\n",
    "\n",
    "    # Count signature worldwide\n",
    "    worldTotal = attributes['signature_count']\n",
    "\n",
    "    # Count signatures for all of the countries\n",
    "    total = 0\n",
    "    for country in attributes['signatures_by_country']:\n",
    "        total += country['signature_count']\n",
    "\n",
    "    # Ensure that all signatures are accounted for by creating an 'Unknown' category\n",
    "    diff = worldTotal - total\n",
    "    if diff:\n",
    "        if diff / worldTotal > 0.1:\n",
    "            print('Missing country: %0.2f%%' % (diff / worldTotal))\n",
    "        unknown = {'name': 'Unknown', 'code': 'ZZ', 'signature_count':  diff}\n",
    "        attributes['signatures_by_country'].append(unknown)\n",
    "        total += diff\n",
    "\n",
    "    # List all of the countries sorted by signature count\n",
    "    countries = sorted(attributes['signatures_by_country'], key=lambda country: country['signature_count'], reverse=True)\n",
    "\n",
    "    f.write('### Signatures by Country\\n\\n')\n",
    "    f.write('| # | Country | Signatures | % |\\n')\n",
    "    f.write('| - | - | -: | -: |\\n')\n",
    "\n",
    "    for i in range(len(countries)):\n",
    "        country = countries[i]\n",
    "        pct = 100 * country['signature_count'] / total\n",
    "        f.write('| %d | %s | %s | %0.2f |\\n' % (i + 1, country['name'], '{:,}'.format(country['signature_count']), pct))"
   ]
  },
  {
   "cell_type": "markdown",
   "metadata": {},
   "source": [
    "## Process Constituencies"
   ]
  },
  {
   "cell_type": "code",
   "execution_count": 6,
   "metadata": {},
   "outputs": [],
   "source": [
    "def processConstituencies(attributes, f):\n",
    "    '''Process all of the constituencies for a petition'''\n",
    "\n",
    "    # Count signatures for the UK (ISO code GB)\n",
    "    ukTotal = 0\n",
    "    for country in attributes['signatures_by_country']:\n",
    "        if country['code'] == 'GB':\n",
    "            ukTotal = country['signature_count']\n",
    "\n",
    "    # Count signatures for all of the constituencies\n",
    "    total = 0\n",
    "    for constituency in attributes['signatures_by_constituency']:\n",
    "        total += constituency['signature_count']\n",
    "\n",
    "    # Ensure that all signatures are accounted for by creating an 'Unknown' category\n",
    "    diff = ukTotal - total\n",
    "    if diff:\n",
    "        if diff / ukTotal > 0.1:\n",
    "            print('Missing constituency: %0.2f%%' % (diff / ukTotal))\n",
    "        unknown = {'name': 'Unknown', 'ons_code': 'Z99999999', 'mp': 'Unknown', 'signature_count':  diff}\n",
    "        attributes['signatures_by_constituency'].append(unknown)\n",
    "        total += diff\n",
    "\n",
    "    # List all of the constituencies sorted by signature count\n",
    "    constituencies = sorted(attributes['signatures_by_constituency'], key=lambda constituency: constituency['signature_count'], reverse=True)\n",
    "\n",
    "    f.write('### Signatures by Constituency\\n\\n')\n",
    "    f.write('| # | Constituency | MP | Signatures | % |\\n')\n",
    "    f.write('| - | - | - | -: | -: |\\n')\n",
    "\n",
    "    for i in range(len(constituencies)):\n",
    "        constituency = constituencies[i]\n",
    "        pct = 100 * constituency['signature_count'] / total\n",
    "        f.write('| %d | %s | %s | %s | %0.2f |\\n' % (i + 1, constituency['name'], constituency['mp'],\n",
    "            '{:,}'.format(constituency['signature_count']), pct))"
   ]
  },
  {
   "cell_type": "markdown",
   "metadata": {},
   "source": [
    "## Process Petition"
   ]
  },
  {
   "cell_type": "code",
   "execution_count": 7,
   "metadata": {},
   "outputs": [],
   "source": [
    "def processPetition(state, petition):\n",
    "    '''Process a single petition'''\n",
    "\n",
    "    # Date / time of the refresh\n",
    "    refreshTime = datetime.datetime.now()\n",
    "\n",
    "    # Specify the URL\n",
    "    url = petition['links']['self']\n",
    "\n",
    "    # Open the URL and retrieve the JSON\n",
    "    handle = urllib.request.urlopen(url)\n",
    "\n",
    "    # Parse JSON\n",
    "    petition = json.load(handle)\n",
    "\n",
    "    # Everything of interest is under \"attributes\"\n",
    "    petitionData = petition['data']\n",
    "    petitionId = petitionData['id']\n",
    "    attributes = petitionData['attributes']\n",
    "    link = petition['links']['self'].replace('.json','')\n",
    "\n",
    "    # Remove newlines from the action (petition title)\n",
    "    attributes['action'] = attributes['action'].replace('\\r\\n',' ')\n",
    "\n",
    "    # Write JSON to local file\n",
    "    fn = os.path.join(projdir, 'data', state, '%d.json' % petitionId)\n",
    "    if not os.path.exists(os.path.dirname(fn)):\n",
    "        os.makedirs(os.path.dirname(fn))\n",
    "    with open(fn, 'w') as f:\n",
    "        f.write(json.dumps(petition, indent=4))\n",
    "\n",
    "    # Write summary to local file\n",
    "    fn = os.path.join(projdir, 'docs', state, '%d.md' % petitionId)\n",
    "    if not os.path.exists(os.path.dirname(fn)):\n",
    "        os.makedirs(os.path.dirname(fn))\n",
    "    with open(fn, 'w') as f:\n",
    "        f.write('# %s\\n\\n' % attributes['action'])\n",
    "        f.write('### Background\\n\\n')\n",
    "        f.write('%s\\n\\n' % attributes['background'])\n",
    "        f.write('### Signatures\\n\\n')\n",
    "        f.write('**%s signatures**\\n\\n' % '{:,}'.format(attributes['signature_count']))\n",
    "        f.write('Data taken from [%s](%s)\\n\\n' % (link, link))\n",
    "        f.write('Last refreshed %s\\n\\n' % refreshTime.strftime(\"%Y-%m-%d %H:%M:%S\"))\n",
    "        if (attributes['government_response']) is not None:\n",
    "            f.write('### Government Response\\n\\n')\n",
    "            f.write('%s\\n\\n' % attributes['government_response']['summary'])\n",
    "            f.write('%s\\n\\n' % attributes['government_response']['details'])\n",
    "\n",
    "        processHistory(attributes, f)\n",
    "        f.write('\\n')\n",
    "        \n",
    "        processCountries(attributes, f)\n",
    "        f.write('\\n')\n",
    "\n",
    "        processConstituencies(attributes, f)\n",
    "\n",
    "    return petition"
   ]
  },
  {
   "cell_type": "markdown",
   "metadata": {},
   "source": [
    "## Process Petitions"
   ]
  },
  {
   "cell_type": "code",
   "execution_count": 8,
   "metadata": {},
   "outputs": [
    {
     "name": "stdout",
     "output_type": "stream",
     "text": [
      "Processed open petitions in 14.26 seconds\n",
      "Processed closed petitions in 0.19 seconds\n",
      "Processed published petitions in 15.27 seconds\n"
     ]
    }
   ],
   "source": [
    "def processPetitions(state, prefix = ''):\n",
    "    '''Process the top petitions'''\n",
    "\n",
    "    # Time the processing\n",
    "    pc1 = time.perf_counter()\n",
    "\n",
    "    # Date / time of the refresh\n",
    "    refreshTime = datetime.datetime.now()\n",
    "\n",
    "    # Specify the URL\n",
    "    url = \"https://petition.parliament.uk/{}petitions.json?state={}\".format(prefix, state)\n",
    "\n",
    "    # Open the URL and retrieve the JSON\n",
    "    handle = urllib.request.urlopen(url)\n",
    "\n",
    "    # Parse JSON\n",
    "    index = json.load(handle)\n",
    "\n",
    "    # Write JSON to local file\n",
    "    fn = os.path.join(projdir, 'data', state, 'index.json')\n",
    "    if not os.path.exists(os.path.dirname(fn)):\n",
    "        os.makedirs(os.path.dirname(fn))\n",
    "    with open(fn, 'w') as f:\n",
    "        f.write(json.dumps(index, indent=4))\n",
    "\n",
    "    # Write summary to local file\n",
    "    fn = os.path.join(projdir, 'docs', state, 'README.md')\n",
    "    if not os.path.exists(os.path.dirname(fn)):\n",
    "        os.makedirs(os.path.dirname(fn))\n",
    "    with open(fn, 'w') as f:\n",
    "        topX = len(index['data'])\n",
    "        if (topX > 0):\n",
    "            f.write('# Top %d %s Petitions\\n\\n' % (topX, state.capitalize()))\n",
    "        else:\n",
    "            f.write('# Top %s Petitions\\n\\n' % state.capitalize())\n",
    "\n",
    "        f.write('Data taken from [UK Government and Parliament](%s)\\n\\n' % url.replace('.json', ''))\n",
    "        f.write('Reports created using a simple [IPython Notebook](https://github.com/Logiqx/petition-stats)\\n\\n')\n",
    "        f.write('Last refreshed %s\\n\\n' % refreshTime.strftime(\"%Y-%m-%d %H:%M:%S\"))\n",
    "\n",
    "        if (topX > 0):\n",
    "            f.write('| Petition Name | Total Signatures | UK Signatures | Overseas Signatures | Unknown Signatures | UK Signatures % | Overseas Signatures % | Unknown Signatures % |\\n')\n",
    "            f.write('| - | -: | -: | -: | -: | -: | -: | -: |\\n')\n",
    "\n",
    "            # Process the top X petitions\n",
    "            for i in range(topX):\n",
    "                petition = index['data'][i]\n",
    "                petition = processPetition(state, petition)\n",
    "                attributes = petition['data']['attributes']\n",
    "\n",
    "                total = attributes['signature_count']\n",
    "                ukTotal = unknownTotal = 0\n",
    "                for country in attributes['signatures_by_country']:\n",
    "                    if country['code'] == 'GB':\n",
    "                        ukTotal = country['signature_count']\n",
    "                    if country['code'] == 'ZZ':\n",
    "                        unknownTotal = country['signature_count']\n",
    "                overseasTotal = total - ukTotal - unknownTotal\n",
    "\n",
    "                f.write('| [%s](%s.md) | %s | %s | %s | %s | %0.2f | %0.2f | %0.2f |\\n' % (\n",
    "                    attributes['action'], petition['data']['id'], '{:,}'.format(total),\n",
    "                    ('{:,}'.format(ukTotal)), ('{:,}'.format(overseasTotal)), ('{:,}'.format(unknownTotal)),\n",
    "                    100 * ukTotal / total, 100 * overseasTotal / total, 100 * unknownTotal / total\n",
    "                ))\n",
    "\n",
    "    pc2 = time.perf_counter()\n",
    "    print(\"Processed %s petitions in %0.2f seconds\" % (state, pc2 - pc1))\n",
    "\n",
    "processPetitions(\"open\")\n",
    "processPetitions(\"closed\")\n",
    "processPetitions(\"published\", \"archived/\")"
   ]
  },
  {
   "cell_type": "code",
   "execution_count": null,
   "metadata": {},
   "outputs": [],
   "source": []
  }
 ],
 "metadata": {
  "kernelspec": {
   "display_name": "Python 3",
   "language": "python",
   "name": "python3"
  },
  "language_info": {
   "codemirror_mode": {
    "name": "ipython",
    "version": 3
   },
   "file_extension": ".py",
   "mimetype": "text/x-python",
   "name": "python",
   "nbconvert_exporter": "python",
   "pygments_lexer": "ipython3",
   "version": "3.7.3"
  }
 },
 "nbformat": 4,
 "nbformat_minor": 1
}
